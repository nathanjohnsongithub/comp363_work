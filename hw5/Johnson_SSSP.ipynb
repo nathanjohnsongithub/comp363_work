{
  "nbformat": 4,
  "nbformat_minor": 0,
  "metadata": {
    "colab": {
      "provenance": []
    },
    "kernelspec": {
      "name": "python3",
      "display_name": "Python 3"
    },
    "language_info": {
      "name": "python"
    }
  },
  "cells": [
    {
      "cell_type": "markdown",
      "source": [
        "# Single-source shortest path (SSSP)\n",
        "\n",
        "*Reading material: [Chapter 8](https://jeffe.cs.illinois.edu/teaching/algorithms/book/08-sssp.pdf) from Erickson's book.*\n",
        "\n",
        "This is an algorithm that determines the shortest distance between two vertices in an acyclic graph. To ensure there are no cycles, the graph must also be directed. There are ways to deal with undirected graphs and cycles, but for now we'll focus on a *dag*, a **d**irected **a**cyclic **g**raph. Furthermore, we'll consinder a *weighted* dag:\n",
        "$$\n",
        "G = (V,E,w)\n",
        "$$\n",
        "where $w: V\\times V\\mapsto \\mathbb{N}_0$ maps an edge to an non negative value called the weight of the edge. In practice, all three objects of the triplet $(V, E, w)$ are packed in an the adjacency matrix of a graph. Given an array ``G`` with the adjacency matrix, the objects $V$, $E$, and $w$ are related as:\n",
        "\n",
        "\\begin{align}\n",
        " V & = \\{ i\\ \\mid\\ 0\\leq i < \\texttt{len(G)} \\} \\\\\n",
        " E & = \\{ (u,v)\\ \\mid\\ u, v\\in V\\ \\text{and}\\ \\texttt{G[u][v]} < \\infty\\} \\\\\n",
        " w & =  \\{ (u,v)\\mapsto \\texttt{G[u][v]}\\ \\mid\\ (u,v)\\in E\\}\n",
        "\\end{align}\n",
        "\n",
        "For example, if\n",
        "\n",
        "$$\n",
        "\\texttt{G} =\n",
        "\\begin{bmatrix}\n",
        "\\infty &    160 & \\infty & \\infty &    140 \\\\\n",
        "\\infty & \\infty &     50 & \\infty & \\infty \\\\\n",
        "\\infty & \\infty & \\infty &     40 & \\infty \\\\\n",
        "\\infty & \\infty & \\infty & \\infty & \\infty \\\\\n",
        "\\infty & \\infty & \\infty &     30 & \\infty\n",
        "\\end{bmatrix}\n",
        "$$\n",
        "\n",
        "then\n",
        "\n",
        "\\begin{align}\n",
        " V & = \\{ i\\ \\mid\\ 0\\leq i < \\texttt{len(G)} \\} = \\{0,1,2,3,4\\} \\\\\n",
        " E & = \\{ (u,v)\\ \\mid\\ \\texttt{G[u][v]} < \\infty\\} = \\{(0,1), (0,4), (1,2), (2,3), (4,3)\\} \\\\\n",
        " w & =  \\{ (u,v)\\mapsto \\texttt{G[u][v]}\\ \\mid\\ (u,v)\\in E\\} \\\\\n",
        "   &= \\{(0,1)\\mapsto 160,\\ (0,4)\\mapsto 140,\\ (1,2)\\mapsto 50,\\ (2,3)\\mapsto 40,\\ (4,3) \\mapsto 30\\}\n",
        "\\end{align}\n"
      ],
      "metadata": {
        "id": "dDH5HgyenZ8_"
      }
    },
    {
      "cell_type": "markdown",
      "source": [
        "\n",
        "The SSSP algorithm finds the shortest distance from a source vertex $s$ to every vertex in a graph.\n",
        "\n",
        "## Initialization\n",
        "\n",
        "In this phase we setup three data structures necessary to implement the algorithm.\n",
        "\n",
        "\\begin{align}\n",
        "\\texttt{dist}[v] &: \\text{length of shortest path from } s\\text{ to } v \\\\\n",
        "\\texttt{parent}[v] &: \\text{parent vertex of } v\\text{ in the shortest path }s\\rightsquigarrow v\n",
        "\\end{align}\n",
        "\n",
        "Initially we set $\\texttt{dist}[v] = \\infty$ for every $v\\neq s$ and  $\\texttt{dist}[s] = 0$. Also we set $\\texttt{parent}[v] = \\text{null}$ for every $v\\in V$. And we load $s$ into an array that will drive the iterative part of the algorithm.\n",
        "```python\n",
        "dist = []\n",
        "parent = []\n",
        "for v in range(len(G)):\n",
        "  dist.append(float('int'))\n",
        "  parent.append(None)\n",
        "dist[s] = 0\n",
        "```"
      ],
      "metadata": {
        "id": "QtpChlbc90Aj"
      }
    },
    {
      "cell_type": "markdown",
      "source": [
        "# Iterations\n",
        "\n",
        "This part of the algorithm continues for as long as there are vertices in array `stack`. As the name implies, we load and remove data from this array in last-in/first-out fashion.\n",
        "\n",
        "The objective of the iterative part is to find every tense edge in the graph and relax it. An edge $u\\rightarrow v$ with weight $w(u,v)$ is tense when\n",
        "$$\n",
        "\\color{brown}{\\texttt{dist}[v]}  > \\color{green}{\\texttt{dist}[u]} +\\color{magenta}{w(u,v)}\n",
        "$$\n",
        "What this means is that the shortest path from\n",
        "$s\\color{brown}{\\rightsquigarrow \\ldots\\rightsquigarrow v}$\n",
        "is *longer* than the shortest path\n",
        "$s\\color{green}{\\rightsquigarrow \\ldots\\rightsquigarrow u}$\n",
        "plus the edge\n",
        "$\\color{green}u\\color{magenta}\\rightarrow\\color{brown}v$.\n",
        "\n",
        "![](https://drive.google.com/uc?export=view&id=18uy8w__FSkA3MmWR7OX55pCi7O9d6Iic)\n",
        "\n",
        "In other words, the green path above plus the edge\n",
        "$\\color{green}u\\color{magenta}\\rightarrow\\color{brown}v$\n",
        "provides a shorter way to vertex $\\color{brown}v$ than the currently *assumed* short path shown in light brown.\n",
        "\n",
        "**A tense edge $u \\rightarrow v$ is an indication that there is a shorter path to $v$ than the current one.** To relax a tense edge, we accept the shortest path it indicates:\n",
        "\\begin{align}\n",
        "\\text{if } \\color{brown}{\\texttt{dist}[v]}  > \\color{green}{\\texttt{dist}[u]} +\\color{magenta}{w(u,v)} \\\\\n",
        "\\text{then } \\color{brown}{\\texttt{dist}[v]}  = \\color{green}{\\texttt{dist}[u]} +\\color{magenta}{w(u,v)}\n",
        "\\end{align}\n",
        "\n",
        "The greedy strategy above tells us what to do when we find a tense edge. But how can we be sure we have relaxed every tense edge in the graph? Our first thought would be to explore every edge in the graph:\n"
      ],
      "metadata": {
        "id": "Tag4jh0g5bX8"
      }
    },
    {
      "cell_type": "markdown",
      "source": [
        "\n",
        "```python\n",
        "for u = 0 ... n-1:\n",
        "  for v = 0 ... n-1:\n",
        "    if G[u][v] < ∞:\n",
        "      if dist[v] > dist[u] + G[u][v]:\n",
        "        dist[v] = dist[u] + G[u][v]:\n",
        "```"
      ],
      "metadata": {
        "id": "XjlXZF-mWGqK"
      }
    },
    {
      "cell_type": "markdown",
      "source": [
        "And then repeat the exploration above until no more tense edges are found. The loops above require $\\mathcal{O}(n^2)$ time; if we repeat this process another $\\mathcal{O}(n)$ times, the algorithm enters $\\mathcal{O}(n^3)$ territory.\n",
        "\n",
        "We may speed things up a bit, perhaps returning to $\\mathcal{O}(n^2)$, by exploiting the initial state of the algorithm. At that time, with $\\texttt{dist}[v] = \\infty$ for $v\\neq s$ and $\\texttt{dist}[s] = 0$, every edge from $s$ to its neighbors, is a tense one.\n",
        "\n",
        "Let's assume that the neighbors of $s$ are vertices $s_1, s_2, \\ldots$. At initialization, we'll have\n",
        "\n",
        "\\begin{align}\n",
        "\\texttt{dist}[s] & = 0 \\\\\n",
        "\\texttt{dist}[s_1] & = \\infty\\\\\n",
        "\\texttt{dist}[s_2] & = \\infty\\\\\n",
        "\\vdots\n",
        "\\end{align}\n",
        "\n",
        "The edges $s\\rightarrow s_1$, $s\\rightarrow s_2$, etc, are tense because\n",
        "\n",
        "\\begin{align}\n",
        "\\underbrace{\\texttt{dist}[s_k]}_{\\infty} > \\underbrace{\\texttt{dist}[s]}_{0}+ \\underbrace{\\texttt{G}[s][s_k]}_{\\color{red}{< \\infty}}\n",
        "\\end{align}\n",
        "\n",
        "We know that $\\texttt{G}[s][s_k]<\\infty$ because there is an edge from $s$ to $s_k$. These edges can be relaxed by updating their shortest path distances as\n",
        "\n",
        "\\begin{align}\n",
        "\\texttt{dist}[s_k] & =  \\texttt{dist}[s] + \\texttt{G}[s][s_k] & \\\\\n",
        "            & =  \\texttt{G}[s][s_k] &(\\text{because } \\texttt{dist}[s]=0)\n",
        "\\end{align}\n",
        "\n",
        "This makes sense: the shortest path from $s$ to any of its adjacent vertices $s_k$ is the edge $s\\rightarrow s_k$.\n"
      ],
      "metadata": {
        "id": "eX61FUN3WJkU"
      }
    },
    {
      "cell_type": "markdown",
      "source": [
        "\n",
        "Once we establish the shortest paths from $s$ to its adjacent vertices $s_k$, we can relax any tense edges from $s_k$ forward, and so on. All we need is a place to keep track which vertices to explore next for tense edges emanating from them. If this sounds very similar to searching for vertices reachable from $s$, it is. And therefore, the mechanism is similar too: an array to hold the vertices to explore next.\n",
        "\n",
        "```python\n",
        "stack = [s]                         # Vertices to explore next.\n",
        "while stack:                        # Same as while len(stack) > 0\n",
        "  u = stack.pop()                   # Check edges out of u\n",
        "  for v in range(len(G)):           # G is adjacency matrix\n",
        "    if G[u][v] < G[0][0]:           # Diagonal element is infinity\n",
        "      if dist[v] > dist[u]+G[u][v]: # Edge u->v is tense\n",
        "        dist[v] > dist[u]+G[u][v]   # Relax it\n",
        "        parent[v] = u               # Update path route\n",
        "      stack.append(v)               # Plan to check edges out of v\n",
        "```"
      ],
      "metadata": {
        "id": "zOz3SAZnWZXg"
      }
    },
    {
      "cell_type": "markdown",
      "source": [
        "As you may remember from earlier courses, the two most common ways to explore a graph are depth-first and breadth-first searches. Both techniques use an array to store which vertices to explore next. Their only difference is how they stage the data in that array. If data are staged in a first-in/first-out manner, the array acts as a queue. If data are staged in a last-in/first-out manner, the array acts as a stack. Queue-based explorations are breadth-first, stack-based are depth-first. Stack-based explorations can be implemented without an array as recursive programs that exploit the [program stack](https://en.wikipedia.org/wiki/Call_stack) in the computer's CPU.\n",
        "\n",
        "When using an array to implement a depth-first search, stack operations in Python are straight forward: `list.append` adds a value at the back of an array and `list.pop()` removes a value from the back of the array. That's a LIFO staging.\n",
        "\n",
        "A basic implementation of the single-source shortest path algorithm is shown below. Method `sssp(G,s)` takes the adjacency matrix `G` of a directed acyclic graph and computers the shortest paths to every vertex in the graph from a starting vertex `s`. You may test this code with the simple graph given in adjacency matrix `test` or write your own graph."
      ],
      "metadata": {
        "id": "sQwJQhyVl6DX"
      }
    },
    {
      "cell_type": "code",
      "execution_count": null,
      "metadata": {
        "id": "j08wCsO5Kv1j"
      },
      "outputs": [],
      "source": [
        "def sssp(G,s):\n",
        "  n = len(G)                            # Number of vertices\n",
        "  infty = G[0][0]                       # No-edge value (infinity)\n",
        "  dist = [ infty ] * n                  # Shortest path distances, initially infinite\n",
        "  dist[s] = 0                           # Shortest path distance from source vertex\n",
        "  parent = [ None ]*n                   # Parent of a vertex along the shortest path\n",
        "  stack = [s]                           # Initialize exploration array with source vertex\n",
        "  while stack:                          # Iterate as long as there are vertices to exploee\n",
        "    u = stack.pop()                     # Next vertex to explore\n",
        "    for v in range(n):                  # Consider all the neighbors of this vertex\n",
        "      if G[u][v] < infty:               # v is a neighbor if the edge u -> v exists\n",
        "        if dist[u] + G[u][v] < dist[v]: # Check to see if edge u -> v is tense\n",
        "          dist[v] = dist[u] + G[u][v]   # If edge tense, relax it\n",
        "          parent[v] = u                 # Adjust path to show we get to v through u\n",
        "        stack.append(v)                 # Explore v next\n",
        "  return dist, parent                   # Done"
      ]
    },
    {
      "cell_type": "code",
      "source": [
        "_ = float('inf')\n",
        "\n",
        "test = [\n",
        "    [  _, 160,   _,   _, 140],\n",
        "    [  _,   _,  50,   _,   _],\n",
        "    [  _,   _,   _,  40,   _],\n",
        "    [  _,   _,   _,   _,   _],\n",
        "    [  _,   _,   _,  30,   _]\n",
        "]"
      ],
      "metadata": {
        "id": "VCXhcEOGVMSz",
        "colab": {
          "base_uri": "https://localhost:8080/"
        },
        "outputId": "31ac1d7d-50a1-4e6d-8fef-9cecb6239998"
      },
      "execution_count": null,
      "outputs": [
        {
          "output_type": "execute_result",
          "data": {
            "text/plain": [
              "([0, 160, 210, 170, 140], [None, 0, 1, 4, 0])"
            ]
          },
          "metadata": {},
          "execution_count": 34
        }
      ]
    },
    {
      "cell_type": "markdown",
      "source": [
        "## Which edges to explore?\n",
        "\n",
        "So far, we explored the graph using a stack (or a queue) staging of the vertices to visit and look for tense edges. Another way to look for tense edges is to visit the vertices in their *topological order*. This is the order in which the vertices would be lined up if we stretched the graph between two special vertices: a *source* vertex and a *target* (or *sink*) vertex.\n",
        "\n",
        "A source vertex has no incoming edges. A target vertex has no outgoing edges. In terms of adjacency matrix representation, a source vertex is a column of infinities and a target vertex is a row of infinities. In the earlier example\n",
        "\n",
        "$$\n",
        "\\texttt{G} =\n",
        "\\begin{bmatrix}\n",
        "\\color{pink}\\infty &    160 & \\infty & \\infty &    140 \\\\\n",
        "\\color{pink}\\infty & \\infty &     50 & \\infty & \\infty \\\\\n",
        "\\color{pink}\\infty & \\infty & \\infty &     40 & \\infty \\\\\n",
        "\\color{pink}\\infty & \\color{pink}\\infty & \\color{pink}\\infty & \\color{pink}\\infty & \\color{pink}\\infty \\\\\n",
        "\\color{pink}\\infty & \\infty & \\infty &     30 & \\infty\n",
        "\\end{bmatrix}\n",
        "$$\n",
        "\n",
        "vertex 0 is the source vertex because $G[u][0]=\\color{pink}\\infty$ and vertex 3 is the target vertex because $G[3][v] =\\color{pink}\\infty$. From this, we can tell that a linear arrangement of $G$'s vertices will start with the source (vertex 0) and end with the target (vertex 3). In such an arrangement, *all edges point forward.*"
      ],
      "metadata": {
        "id": "AZlpAxt-kZHz"
      }
    },
    {
      "cell_type": "markdown",
      "source": [
        "## Topological order (sorting)\n",
        "\n",
        "The topological order of a directed acyclic graph is the order in which we would be removing its source vertices. No vertices are removed in the process -- such foolishness would only destroy the graph. The process is purely fictional: *pretent to remove* one source vertex at a time.\n",
        "\n",
        "What happens if the graph has only once source vertex? In this case, other vertices will become sources. And after we (pretent to) remove them, there will be new sources. Until all sources have been (hypothetically) removed and the remaining vertices in the (hypothetically) decimated graph are the target vertices.\n",
        "\n",
        "The order in which source vertices are (hypothetically) removed, together with the last remaining target vertices is the topological order of the graph. The pseudocode for computing the topological order of a graph is as follows."
      ],
      "metadata": {
        "id": "YMVVY2Wvo1xh"
      }
    },
    {
      "cell_type": "markdown",
      "source": [
        "\\begin{align}\n",
        "& S \\leftarrow \\{\\}  \\\\\n",
        "& T \\leftarrow () \\\\\n",
        "& \\text{for every } u \\in V: \\\\\n",
        "& \\quad\\text{if}\\ d_\\text{in}(u) = 0: \\\\\n",
        "& \\quad\\quad S \\cup u\\\\\n",
        "& \\text{while}\\ |S| > 0: \\\\\n",
        "& \\quad u\\leftarrow\\ S.\\texttt{pop} \\\\\n",
        "& \\quad \\text{for every edge}\\ u\\rightarrow v: \\\\\n",
        "& \\quad\\quad d_\\text{in}(v)-1 \\\\\n",
        "& \\quad\\quad\\text{if}\\ d_\\text{in}(v) = 0: \\\\\n",
        "& \\quad\\quad\\quad S \\cup u\\\\\n",
        "& \\quad\\quad\\quad T \\cup u\\\\\n",
        "& \\text{return}\\ T\n",
        "\\end{align}"
      ],
      "metadata": {
        "id": "1ztew1u1KF2E"
      }
    },
    {
      "cell_type": "markdown",
      "source": [
        "In the pseudocode above $S$ is the set of source vertices identified during the (hypothetical) removal of vertices; $T$ is an ordered set, and; $d_\\text{in}(j)$ is the in-degree of vertex $j$.\n",
        "\n",
        "The in-degree of a vertex is the number of edges arriving at the vertex. In terms of an adjacency matrix $G$, the in-degree of a vertex is written as\n",
        "\n",
        "\\begin{align}\n",
        "d_\\text{in}(j) = \\sum_{\\substack{i=0\\\\ G_{ij} <\\infty}}^{n-1}\\mathbf{1}\n",
        "\\end{align}\n",
        "\n",
        "In plain terms, the in-degree of a vertex $j$ is the number of values in the $j$-th column of the adjacency matrix that are less than infinity."
      ],
      "metadata": {
        "id": "AkdL57QAPEit"
      }
    },
    {
      "cell_type": "markdown",
      "source": [
        "## Your assignment: part I\n",
        "\n",
        "Given a weighted directed acyclic graph $G=(V,E,w)$ and a vertex $s$, find the shortest paths from $s$ to every other vertex in $G$ using the topological order to seek and relax tense edges. The results of your method should be similar to the results of `sssp` earlier.\n",
        "\n",
        "This part is intentionally ambiguous. You have to compute single-source shortest paths in a weighted *dag*. Unlike the code given earlier in `sssp` you have to check for tense edges, following the topological order of the graph. Specifically, you'll need to explore the outgoing edges of each vertex in the the topological order.\n",
        "\n",
        "The construction of the topological order was discussed in class on 10/4/24 and is described in pseudocode above.\n",
        "\n",
        "## Your assignment: part II\n",
        "\n",
        "For the *Ungrading* process in the course, please compare your assignments so far with the posted solutions. Identify any significant differences between your work and my solutions. Describe a few of them; no need to describe all, maybe 3. Discuss what you learned from them. Reflect on how this learning is different from what you may have covered in COMP 272 (if applicable).\n",
        "\n",
        "Also discuss your class attendance and participation. This discussion should be an assessment of your engagement in the course; not a justification for absences or lack of participation. Use this discussion as an opportunity to plan your engagement for the rest of the term.\n",
        "\n",
        "Also please take a few minutes to tell me how I can do a better job in the course -- you can use the anonymous feedback form for that if you wish.\n",
        "\n",
        "Finally, based on your self-assessment, what is the course grade you would expect and why?\n",
        "\n",
        "## How to submit\n",
        "\n",
        "You can include all your work in the notebook with your solution to Part I of this assignment.\n",
        "\n",
        "On Sakai, just copy the link to your Colab notebook (make sure that the notebook is shareable). For Part II you may also type things straight into Sakai or upload a PDF with your reflection.\n",
        "\n",
        "\n",
        "\n"
      ],
      "metadata": {
        "id": "AzU6HftFzmfs"
      }
    },
    {
      "cell_type": "markdown",
      "source": [
        "# Assignment Part 1, Topological Order"
      ],
      "metadata": {
        "id": "43lXYvm_EUGJ"
      }
    },
    {
      "cell_type": "code",
      "source": [
        "# function to get in degree of a given vertex, v\n",
        "# Returns a list of the in_degree for the graph\n",
        "def get_in_degree(G):\n",
        "    # Initialize in_degree return array of len(num_vertices)\n",
        "    in_degree = [0] * len(G)\n",
        "    infinity = G[0][0]\n",
        "    for v in range(len(G)):\n",
        "        for u in range(len(G)):\n",
        "            # If there is an edge from u to v, add to array\n",
        "            if (G[u][v] < infinity):\n",
        "                in_degree[v] += 1\n",
        "    return in_degree\n",
        "\n",
        "# Method to get the taopological order Given a graph, G, and a starting node, s\n",
        "def topological(G, s):\n",
        "    # Get the number of vertices\n",
        "    n = len(G)\n",
        "    # diagonal elements are always infinity\n",
        "    infinity = G[0][0]\n",
        "    # Initialize the stack\n",
        "    S = []\n",
        "    # Array that will store the topological order we will return\n",
        "    T = []\n",
        "\n",
        "    # Add all vertices with in-degree 0 to the stack, since they have no dependencies\n",
        "    # and can be processed first\n",
        "    in_degree = get_in_degree(G)\n",
        "    # Add the elements that have an in_degree of 0, because they will be the\n",
        "    # Next element to search for the topo order\n",
        "    for u in range(n):\n",
        "        if (in_degree[u] == 0):\n",
        "            S.append(u)\n",
        "\n",
        "    # Provess vertices until the stack is empty\n",
        "    while(S):\n",
        "        # Get the last vertice from the stack\n",
        "        u = S.pop()\n",
        "        # Add the new vertice to the topological return list\n",
        "        T.append(u)\n",
        "\n",
        "        # Iterate over the graph\n",
        "        for v in range(n):\n",
        "            # If there is an edge from u to v (G[u][v] is less than infinity),\n",
        "            # it means v depends on u, so reduce the in-degree of v\n",
        "            if G[u][v] < infinity:\n",
        "                in_degree[v] -= 1\n",
        "\n",
        "                # If the in-degree of v is now 0, add it to the stack for processing\n",
        "                # and append it to the result array T\n",
        "                if (in_degree[v] == 0):\n",
        "                    S.append(v)\n",
        "\n",
        "    return T\n",
        "\n",
        "def sssp_topological(G, s):\n",
        "    # Get number of vertices in graph\n",
        "    n = len(G)\n",
        "\n",
        "    # Get the topological ordering from the Graph\n",
        "    topological_order = topological(G, s)\n",
        "\n",
        "    # Initialize infinity, diagonal elements are always infinity\n",
        "    infinity = G[0][0]\n",
        "\n",
        "    # Initialize a distance array to track the shortest distance from the start vertex s\n",
        "    # Set all distances to infinity because we don't know the shortest path yet\n",
        "    dist = [infinity] * n\n",
        "\n",
        "    # distance from start to itself is always 0\n",
        "    dist[s] = 0\n",
        "\n",
        "    # Loop over all of the nodes from the topo order\n",
        "    for u in topological_order:\n",
        "        # If we have already explored this edge\n",
        "        if dist[u] != infinity:\n",
        "            # Try and find a shorter path to this edge u\n",
        "            for v in range(n):\n",
        "                if G[u][v] < infinity:  # If there is an edge from u to v\n",
        "                    # Relaxation step\n",
        "                    if dist[v] > dist[u] + G[u][v]:\n",
        "                        # We found a shorter path, so update\n",
        "                        dist[v] = dist[u] + G[u][v]\n",
        "\n",
        "    return dist"
      ],
      "metadata": {
        "id": "A3ZC0ovtETVf"
      },
      "execution_count": null,
      "outputs": []
    },
    {
      "cell_type": "code",
      "source": [
        "# Sample use case\n",
        "\n",
        "_ = float('inf')\n",
        "\n",
        "test = [\n",
        "    [  _, 160,   _,   _, 140],\n",
        "    [  _,   _,  50,   _,   _],\n",
        "    [  _,   _,   _,  40,   _],\n",
        "    [  _,   _,   _,   _,   _],\n",
        "    [  _,   _,   _,  30,   _]\n",
        "]\n",
        "\n",
        "\n",
        "sssp_topological(test, 0)"
      ],
      "metadata": {
        "colab": {
          "base_uri": "https://localhost:8080/"
        },
        "id": "jPzytHYxNyhb",
        "outputId": "c6038838-4181-45a1-a1b8-aca27b44918d"
      },
      "execution_count": null,
      "outputs": [
        {
          "output_type": "execute_result",
          "data": {
            "text/plain": [
              "[0, 160, 210, 170, 140]"
            ]
          },
          "metadata": {},
          "execution_count": 42
        }
      ]
    },
    {
      "cell_type": "markdown",
      "source": [
        "# Assignment Part 2 : Reflection\n",
        "\n",
        "### Please refer to the sakai textbox"
      ],
      "metadata": {
        "id": "tzy86Lv_QrGo"
      }
    }
  ]
}