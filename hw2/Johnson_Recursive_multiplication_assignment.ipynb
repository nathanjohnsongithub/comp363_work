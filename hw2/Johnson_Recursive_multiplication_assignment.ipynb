{
  "nbformat": 4,
  "nbformat_minor": 0,
  "metadata": {
    "colab": {
      "provenance": []
    },
    "kernelspec": {
      "name": "python3",
      "display_name": "Python 3"
    },
    "language_info": {
      "name": "python"
    }
  },
  "cells": [
    {
      "cell_type": "markdown",
      "source": [
        "# Recursive multiplications\n",
        "\n",
        "Any integer can be writen as a sum of multiples of power of 10; for example,\n",
        "\\begin{align}\n",
        "1234 & = 1\\times 10^3 + 2\\times 10^2 + 3\\times 10^1 + 4\\times 10^0 \\\\\n",
        "     & = 12\\times 10^2 + 34\\times 10^0 \\\\\n",
        "     & = 123\\times 10^1 + 4\\times 10^0\\\\\n",
        "     & = 1234\\times 10^0\\\\\n",
        "     & = 1\\times 10^3 + 23\\times 10^1 + 4\\times 10^0,\\ \\text{etc}\n",
        "\\end{align}"
      ],
      "metadata": {
        "id": "Cr6g_eU9Tz_3"
      }
    },
    {
      "cell_type": "markdown",
      "source": [
        "## Four products\n",
        "\n",
        "\n",
        "Assuming that a number $x$ has an *even* number of digits, we can write it as\n",
        "\n",
        "$$ x = a\\times 10^{n-\\frac{n}{2}}+b\\times 10^{n-n}$$\n",
        "\n",
        "or more simply\n",
        "\n",
        "$$ x = a10^{n/2}+b $$\n",
        "\n",
        "where $n=\\lceil log_{10}x \\rceil$, and $a, b$ are the left and right halves of the number respectively. Likewise, a number $y$ with the same number of digits can be written as $y = c10^{n/2}+d$. Using this form, we can write their product as:\n",
        "\n",
        "\\begin{align}\n",
        "xy & = (a10^{n/2}+b)\\,(c10^{n/2}+d) \\\\\n",
        "   & = ac10^n + (ad+bc)10^{n/2}+bd\n",
        "\\end{align}\n",
        "\n",
        "For simplicity we'll use numbers with a power-of-2 number of digits.\n",
        "\n",
        "The formula above suggests that decomposing in halves and multiplying is recursive: to compute the product $xy$ we must compute the products $ac$, $ad$, $bc$, and $bd$. For example, if $x=1234$ and $y=5678$, their product can be written as\n",
        "\n",
        "$$\n",
        "1234\\times 5678 = (12)(56)10^4 + ((34)(56)+(12)(78))10^2+(34)(78)\n",
        "$$\n",
        "\n",
        "In turn, the products $(12)(56)$, $(34)(56)$, $(12)(78)$, and $(34)(78)$ can be written as\n",
        "\n",
        "\\begin{align}\n",
        "(12)(56) & = (1)(5)10^2+((2)(5)+(1)(6))10+(2)(6) = 500 + 160 + 12 = 672  \\\\\n",
        "(34)(56) & = (3)(5)10^2+((4)(5)+(3)(6))10+(4)(6) = 1500 + 380 + 24 = 1904  \\\\\n",
        "(12)(78) & = (1)(7)10^2+((2)(7)+(1)(8))10+(2)(8) = 700 + 220 + 16  = 936 \\\\\n",
        "(34)(78) & = (3)(7)10^2+((4)(7)+(3)(8))10+(4)(8) = 2100 + 520 + 32 = 2652\n",
        "\\end{align}\n",
        "\n",
        "This last group of multiplications above involves only single-digit products which are easy to compute. Now, we can replace these products in the previous formula. All we have to do next is to multiply by powers-of-10 and add. Both operations are straightforward. Multiplication by a power-of-10 is simply shifting the number as many positions to the left. And adding is quite fast to perform."
      ],
      "metadata": {
        "id": "0Vh1FRJ2T33o"
      }
    },
    {
      "cell_type": "markdown",
      "source": [
        "## Three multiplications\n",
        "\n",
        "We can do better than four products. As [Anatoly Karatsuba](https://en.wikipedia.org/wiki/Anatoly_Karatsuba) observed, the quantity $(ad+bc)$ which requires two multiplications and one addition, can be rewritten as $(a+b)(c+d)-ac-bd$. This new expression requires two additions, two subtractions, and one multiplication. The recursive product $xy$ can be written as\n",
        "\n",
        "$$\n",
        "xy = ac10^n +((a+b)(c+d)-ac-bd)10^{n/2}+bd\n",
        "$$\n",
        "\n",
        "There are three multiplications above, $ac$, $(a+b)(c+d)$, and $bd$. Adding and subtracting numbers is fast (does not require any expensive recursive calls)."
      ],
      "metadata": {
        "id": "Qw2ivOogT6hZ"
      }
    },
    {
      "cell_type": "markdown",
      "source": [
        "## Additions\n",
        "\n",
        "Adding two integer as arrays is straight-forward. We traverse the arrays from back to front, adding the corresponding digits and the carry digit. Then we separate the summation digit using modulo and the carry digit using integer division. We need to be careful when the two numbers we add do not have the same length. This can be addressed in two ways: other left-padding the shorter one with 0s to make its length same as the other number, or by using two tandem loops: one for adding digits from both numbers and one for processing the remaininig digits of the longer number."
      ],
      "metadata": {
        "id": "bbtvmNEuXrLR"
      }
    },
    {
      "cell_type": "markdown",
      "source": [
        "## Subtractions\n",
        "\n",
        "Subtractions are a bit challeging, especially when dealing with negative results. At first, it may seem easy to perform single digit operations, for example\n",
        "\n",
        "```text\n",
        "   [3, 3] array x\n",
        "-  [1, 6] array y\n",
        "=========\n",
        "   [1, 7]\n",
        "```\n",
        "loading a \"carry\" for turning `x[1]-y[1]` to `10+x[1]-y[1]` and then propagate the carry to the next pair as `x[0]-y[0]+carry`. The joy doesn't last long. If we attempt to subtract\n",
        "```text\n",
        "   [1, 6] array x\n",
        "-  [3, 3] array y\n",
        "```\n",
        "\n",
        "using the same \"carry\" technique, we'll come up with `[1,8,3]` or something simarly wrong. We have to reinvent digit-by-digit subtractions.\n",
        "\n",
        "Subtracting 33 from 16 is the same as adding adding the [**nine's complement**](https://en.wikipedia.org/wiki/Method_of_complements) of 33 to 16, then converting the sum  back into nine's complement. The nine's complemnet of 33 is 66, and so $66+16=82$. The nine's complement of 82 is 17. Somewhere there, is a minus sign. The 9's complement is the digit we add to another digit to get 9, i.e.,\n",
        "$$\n",
        "\\text{9's complement of }x = 9-x\n",
        "$$\n",
        "\n",
        "Using 9's complement we can write the subtraction $x-y$ as\n",
        "$$\n",
        "y-x = y+(\\text{9's complement of }x)+1\n",
        "$$"
      ],
      "metadata": {
        "id": "qPxKoH9Nacko"
      }
    },
    {
      "cell_type": "markdown",
      "source": [
        "## Assignment\n",
        "\n",
        "Implement both recursive multiplications (the one with the four products and also Karatsuba's version). I suggest that you head your methods as\n",
        "\n",
        "```python\n",
        "legacy_multiplication(x, y, base=10)\n",
        "```\n",
        "and\n",
        "\n",
        "```python\n",
        "karatsuba_multiplication(x, y, base=10)\n",
        "```\n",
        "respectively.\n",
        "\n",
        "Then write a third method to organize an experiment measuring the performance of each method. The method should run both ``legacy_multiplication`` and ``karatsuba_multiplication`` for multiple sizes of `x` and `y` and track how long it takes each method to complete.\n",
        "\n",
        "You may time the performance of a method using Python's [`time.perf_counter`](https://docs.python.org/3/library/time.html#time.perf_counter). For example,\n",
        "\n",
        "```python\n",
        "import time\n",
        "...\n",
        "start_time = time.perf_counter()\n",
        "method_to_test\n",
        "end_time = time.perf_counter()\n",
        "```\n",
        "\n",
        "The output of your experiments should be a table of values such as the foolowing:\n",
        "\n",
        "```text\n",
        "          n           legacy       karatsuba\n",
        "        ====    ============    ============\n",
        "           2    0.0000133514    0.0000240803\n",
        "           4    0.0000886917    0.0000920296\n",
        "           8    0.0003507137    0.0002956390\n",
        "          16    0.0019903183    0.0013806820\n",
        "          32    ...             ...\n",
        "```\n",
        "where `n` is the size of the arrays to multiply. Ideally you want to have data for 10-15 sizes, from `n=2` through at least `n=1024`.\n",
        "\n",
        "Then create the best line plot with this data, establishing the performance characteristics of both techniques.\n",
        "\n",
        "The specifications of this assignment are intentionally vague to provide you with some latitude on how to execute. For example, the line plot can be done on a spreadsheet or a more advanced tool if you prefer.\n",
        "\n",
        "To assist you in this work, the following methods are already provided:\n",
        "\n",
        "* `shift` to multiply a number represented as an array, by a power of 10. For example, `shift([1,2,3], 3)` will return `[1,2,3,0,0,0]`.\n",
        "\n",
        "* `add` to add two integers represented as arrays.\n",
        "\n",
        "* `subtract` to subtract two integers represented as arrays."
      ],
      "metadata": {
        "id": "gl9wlyqueGSI"
      }
    },
    {
      "cell_type": "code",
      "execution_count": null,
      "metadata": {
        "id": "Us_--ACW3WEH"
      },
      "outputs": [],
      "source": [
        "def shift(array, by):\n",
        "  \"\"\"Zero pads an array to the right, essentially multiplying the number the\n",
        "  array reprents by 10^by\"\"\"\n",
        "  return array+[0 for _ in range(by)]\n",
        "\n",
        "def add(a, b, base=10):\n",
        "  \"\"\"Adds two integers represented as arrays and returns their sum as an array\n",
        "  \"\"\"\n",
        "  # make sure a is the longer of the two arrays\n",
        "  if len(a) < len(b):\n",
        "    a, b = b, a\n",
        "  # Initialize output array\n",
        "  result = [0 for _ in range(len(a))]\n",
        "  # Traverse arrays from back-to-front, for the single digit operations\n",
        "  j = len(a)-1\n",
        "  delta = len(a)-len(b)\n",
        "  carry = 0\n",
        "  while j >= 0:\n",
        "    sum = carry + a[j]\n",
        "    i = j-delta\n",
        "    if i >= 0:\n",
        "      sum += b[i]\n",
        "    carry = sum // base\n",
        "    result[j] = sum % base\n",
        "    j -= 1\n",
        "  return result if carry == 0 else [carry]+result\n",
        "\n",
        "def subtract(x, y, base=10):\n",
        "  \"\"\"Subtracts two integers, represented as arrays, using 9's complement.\"\"\"\n",
        "  # Ensure x has same length as y\n",
        "  while len(x) < len(y):\n",
        "    x.insert(0,0)\n",
        "  # Ensure y has same length as x\n",
        "  while len(y) < len(x):\n",
        "    y.insert(0,0)\n",
        "  # convert y to 9 comp\n",
        "  y9 = [9 - digit for digit in y]\n",
        "  # add x, y9, store result in array sum[]\n",
        "  carry = 0\n",
        "  sum = []\n",
        "  for i in range(len(x)-1, -1, -1):\n",
        "    temp = carry + x[i] + y9[i]\n",
        "    sum.insert(0, temp % base)\n",
        "    carry = temp // base\n",
        "  if carry==1:\n",
        "    # If carry==1 at the end, add it to least significant digit\n",
        "    sum[len(sum)-1] +=1\n",
        "  else:\n",
        "    # If no carry, take 9's complement one more time and mark as negative\n",
        "    sum = [-(9-digit) for digit in sum]\n",
        "  return sum[1:] if sum[0]==0 else sum"
      ]
    },
    {
      "cell_type": "code",
      "source": [
        "def legacy_multiplication(x, y, base=10):\n",
        "    \"\"\" legacy recursive multplication implementation that multiplies\n",
        "        two integer arrays using 4 multiplications\"\"\"\n",
        "\n",
        "    # Base case, both lists are less than or equal to one\n",
        "    if len(x) <= 1 and len(y) <= 1:\n",
        "        # Return the product, accounting for the case that it's a two digit number\n",
        "        product = x[0] * y[0]\n",
        "        return [int(digit) for digit in str(product)]\n",
        "    else:\n",
        "        # Get midpoint and split\n",
        "        n = max(len(x), len(y))\n",
        "        mid = n // 2\n",
        "        a = x[:mid]\n",
        "        b = x[mid:]\n",
        "        c = y[:mid]\n",
        "        d = y[mid:]\n",
        "\n",
        "        # Get the correct multiplication values from recursion\n",
        "        ac = legacy_multiplication(a, c)\n",
        "        ad = legacy_multiplication(a, d)\n",
        "        bc = legacy_multiplication(b, c)\n",
        "        bd = legacy_multiplication(b, d)\n",
        "\n",
        "        # Shift ac by 10^n\n",
        "        ac_shifted = shift(ac, n)\n",
        "\n",
        "        # add ad + bc according to the formula and shift by 10 ^ n/2\n",
        "        ad_bc = add(ad, bc)\n",
        "        ad_bc_shifter = shift(ad_bc, mid)\n",
        "\n",
        "        # Add according to the formula and return the result\n",
        "        ac_bd = add(ac_shifted, bd)\n",
        "        return add(ad_bc_shifter, ac_bd)\n",
        "\n",
        "\n",
        "def karatsuba_multiplication(x, y, base=10):\n",
        "    \"\"\" karatsuba multiplication implementation that multiplies two\n",
        "        integer arrays using karatsuba multiplication formula, making it\n",
        "        have 3 multiplications instead of 4\"\"\"\n",
        "\n",
        "    # Base case: if both lists represent single digits\n",
        "    if len(x) == 1 and len(y) == 1:\n",
        "        product = x[0] * y[0]\n",
        "        return [int(digit) for digit in str(product)]\n",
        "    else:\n",
        "        # Make both lists the same length by padding the shorter one with zeros\n",
        "        n = max(len(x), len(y))\n",
        "        if len(x) < n:\n",
        "            x = [0] * (n - len(x)) + x\n",
        "        if len(y) < n:\n",
        "            y = [0] * (n - len(y)) + y\n",
        "\n",
        "        # Split the lists into two halves\n",
        "        mid = n // 2\n",
        "        a = x[:mid]\n",
        "        b = x[mid:]\n",
        "        c = y[:mid]\n",
        "        d = y[mid:]\n",
        "\n",
        "        # Recursive Karatsuba calls\n",
        "        ac = karatsuba_multiplication(a, c)\n",
        "        bd = karatsuba_multiplication(b, d)\n",
        "\n",
        "        # (a + b) * (c + d)\n",
        "        a_b = add(a, b)\n",
        "        c_d = add(c, d)\n",
        "        a_b_c_d = karatsuba_multiplication(a_b, c_d)\n",
        "\n",
        "        # (a + b) * (c + d) - ac - bd\n",
        "        middle_term = subtract(subtract(a_b_c_d, ac), bd)\n",
        "\n",
        "        # Shift ac by 10^n and middle section by 10^n/2\n",
        "        ac_shifted = shift(ac, n)\n",
        "        middle_term_shifted = shift(middle_term, mid)\n",
        "\n",
        "        # Combine the results and return\n",
        "        result = add(ac_shifted, middle_term_shifted)\n",
        "        result = add(result, bd)\n",
        "\n",
        "        # Not sure if i should remove the leading zeros but I wrote code to do so\n",
        "        '''\n",
        "        i = 0\n",
        "        while i < len(result):\n",
        "            if result[i] == 0:\n",
        "                i += 1\n",
        "            else:\n",
        "                return result[i:]\n",
        "        '''\n",
        "        return result\n"
      ],
      "metadata": {
        "id": "GhfebXCbAqJt"
      },
      "execution_count": null,
      "outputs": []
    },
    {
      "cell_type": "markdown",
      "source": [
        "Sample legacy and karatsuba example"
      ],
      "metadata": {
        "id": "eaFJIPm9CcJE"
      }
    },
    {
      "cell_type": "code",
      "source": [
        "print(legacy_multiplication([1,2,3,4], [5,6,7,8]))\n",
        "print(karatsuba_multiplication([1,2,3,4], [5,6,7,8]))"
      ],
      "metadata": {
        "colab": {
          "base_uri": "https://localhost:8080/"
        },
        "id": "e4lkBX1kCOvY",
        "outputId": "0e3d3cd9-b751-464a-f1e0-a552635b6440"
      },
      "execution_count": null,
      "outputs": [
        {
          "output_type": "stream",
          "name": "stdout",
          "text": [
            "[7, 0, 0, 6, 6, 5, 2]\n",
            "[0, 0, 0, 0, 0, 6, 5, 9, 2, 6, 5, 2]\n"
          ]
        }
      ]
    },
    {
      "cell_type": "markdown",
      "source": [
        "Method to time the legacy and karatsuba methods based on a limit of the size of n (array size)"
      ],
      "metadata": {
        "id": "QIzSK6VpEsL_"
      }
    },
    {
      "cell_type": "code",
      "source": [
        "import time\n",
        "import random\n",
        "import pandas as pd\n",
        "\n",
        "def time_mult(size=1024):\n",
        "    \"\"\" method to time the legacy multiplication and karatsuba multiplication.\n",
        "        method returns a pandas dataframe with the size of n and the time it took\n",
        "        legacy and karatsuba to multiply the numbers\"\"\"\n",
        "    # Initialize the first value of n\n",
        "    n = 2\n",
        "    time_dict = {\n",
        "        'n': [],\n",
        "        'legacy': [],\n",
        "        'karatsuba': []\n",
        "    }\n",
        "\n",
        "    # Timing the functions\n",
        "    while n < size:\n",
        "        # Double n\n",
        "        n = n * 2\n",
        "        x = [random.randint(0, 9) for _ in range(n)]\n",
        "        y = [random.randint(0, 9) for _ in range(n)]\n",
        "\n",
        "        # Timing legacy multiplication\n",
        "        legacy_start_time = time.perf_counter()\n",
        "        legacy_multiplication(x, y)\n",
        "        legacy_end_time = time.perf_counter()\n",
        "\n",
        "        # Timing Karatsuba multiplication\n",
        "        karatsuba_start_time = time.perf_counter()\n",
        "        karatsuba_multiplication(x, y)\n",
        "        karatsuba_end_time = time.perf_counter()\n",
        "\n",
        "        # Store the timings\n",
        "        time_dict['n'].append(n)\n",
        "        time_dict['legacy'].append(legacy_end_time - legacy_start_time)\n",
        "        time_dict['karatsuba'].append(karatsuba_end_time - karatsuba_start_time)\n",
        "\n",
        "    # Print out the results. Initial header\n",
        "    print(\"  n           legacy       karatsuba\")\n",
        "    print(\"====    ============    ============\")\n",
        "\n",
        "    # loop over and print out the value of n, and the time\n",
        "    # it took for each method to multiply.\n",
        "    for i in range(len(time_dict['n'])):\n",
        "        n_value = time_dict['n'][i]\n",
        "        legacy_value = time_dict['legacy'][i]\n",
        "        karatsuba_value = time_dict['karatsuba'][i]\n",
        "\n",
        "        print(f\"{n_value:>4}    {legacy_value :>12.10}s   {karatsuba_value :>12.10}s\")\n",
        "\n",
        "\n",
        "    # Place the results in a dataframe and return which we will use for plotting\n",
        "    df = pd.DataFrame(time_dict)\n",
        "    return df\n"
      ],
      "metadata": {
        "id": "fDEpU9H_vVtB"
      },
      "execution_count": null,
      "outputs": []
    },
    {
      "cell_type": "code",
      "source": [
        "# Call the method\n",
        "df = time_mult(8192)"
      ],
      "metadata": {
        "colab": {
          "base_uri": "https://localhost:8080/"
        },
        "id": "Gs-jsqvaGwoY",
        "outputId": "5b2bc8de-6e53-4152-b797-85d4a4a91b43"
      },
      "execution_count": null,
      "outputs": [
        {
          "output_type": "stream",
          "name": "stdout",
          "text": [
            "  n           legacy       karatsuba\n",
            "====    ============    ============\n",
            "   4      0.00011692s   0.0001825489999s\n",
            "   8     0.000222961s    0.000525078s\n",
            "  16    0.0009095070002s    0.001635763s\n",
            "  32     0.003689374s    0.009462189s\n",
            "  64     0.027500052s     0.01930035s\n",
            " 128      0.06384285s    0.047207455s\n",
            " 256     0.251185377s    0.147069712s\n",
            " 512     1.021423016s    0.410890491s\n",
            "1024     5.549268636s    1.243741557s\n",
            "2048     17.16602953s    4.299942582s\n",
            "4096      71.2629286s    13.63628631s\n",
            "8192     289.1569044s     37.2255581s\n"
          ]
        }
      ]
    },
    {
      "cell_type": "code",
      "source": [
        "# imports needed for plotting\n",
        "import pandas as pd\n",
        "import seaborn as sns\n",
        "import matplotlib.pyplot as plt\n",
        "\n",
        "# df is defined from the method above\n",
        "\n",
        "# Set plot style\n",
        "sns.set(style=\"whitegrid\")\n",
        "\n",
        "# Create the lineplot and label the legacy and karatsuba lines\n",
        "plt.figure(figsize=(10, 6))\n",
        "sns.lineplot(x='n', y='legacy', data=df, label='Legacy', marker='o')\n",
        "sns.lineplot(x='n', y='karatsuba', data=df, label='Karatsuba', marker='o')\n",
        "\n",
        "# add some labels\n",
        "plt.xlabel('n (Input Size)')\n",
        "plt.ylabel('Time (s)')\n",
        "plt.title('Comparison of Legacy and Karatsuba Algorithms')\n",
        "plt.legend(title='Algorithm')\n",
        "\n",
        "# Plot the plot :)\n",
        "plt.show()"
      ],
      "metadata": {
        "colab": {
          "base_uri": "https://localhost:8080/",
          "height": 573
        },
        "id": "aKWfxv4DDVY6",
        "outputId": "9a17b31c-3b95-4976-d9bc-ae8df2d929ea"
      },
      "execution_count": null,
      "outputs": [
        {
          "output_type": "display_data",
          "data": {
            "text/plain": [
              "<Figure size 1000x600 with 1 Axes>"
            ],
            "image/png": "[encoded data removed]"
          },
          "metadata": {}
        }
      ]
    }
  ]
}