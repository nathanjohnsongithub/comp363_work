{
  "nbformat": 4,
  "nbformat_minor": 0,
  "metadata": {
    "colab": {
      "provenance": []
    },
    "kernelspec": {
      "name": "python3",
      "display_name": "Python 3"
    },
    "language_info": {
      "name": "python"
    }
  },
  "cells": [
    {
      "cell_type": "markdown",
      "source": [
        "#  Graphs\n",
        "\n",
        "At its most basic form, a graph is a set of pairs. For example, the set\n",
        "$$\n",
        "E = \\left\\{ (0,5), (1,2), (1,3), (2,1), (2,3), (3,1), (3,2), (3,4), (4,3), (5,0)\n",
        "  \\right\\}\n",
        "$$\n",
        "descibes the graph shown below.\n",
        "\n",
        "![](https://drive.google.com/uc?export=view&id=1duIrrskMWTR-F9r0fYr4qQASdRxHgOzP)\n",
        "\n",
        "Usually it's easier to illustrate a graph than describe it as a set, but both representations have their merit.\n",
        "\n",
        "For every pair $(u,v)\\in E$, we observe that $u, v \\in V$, where $V=\\{0,1,2,3,4,5\\}$. We call $E$ the set of *edges* in the graph and $V$ the set of *vertices* of the graph. The pair of these two sets $(V,E)$ is the graph.\n",
        "\n",
        "If the pairs in $E$ are not ordered, the graph is *undirected* and we can simplify\n",
        "$$\n",
        "E = \\left\\{ (0,5), (1,2), (1,3), (2,3), (3,4)\n",
        "  \\right\\}\n",
        "$$\n",
        "\n",
        "The simplification above is possible because of the unordered pairs\n",
        "\n",
        "\\begin{align}\n",
        "(0,5) &= (5,0), \\\\\n",
        "(1,2) &= (2,1), \\\\\n",
        "(1,3) &= (3,1), \\\\\n",
        "(2,3) &= (2,3), \\\\\n",
        "(3,4) &= (4,3),\\ \\text{and}\\\\\n",
        "(0,5) &= (5,0)\n",
        "\\end{align}\n",
        "and the fundamental property of sets where duplicate elements do not matter.\n",
        "\n",
        "This simplification does not apply when the edges are directed, i.e., the pairs are ordered and therefore $(u,v)\\neq (v,u)$. In this case, the graph is directed. For now, we'll focus on **undirected graphs.**"
      ],
      "metadata": {
        "id": "XX9sM9K9v42O"
      }
    },
    {
      "cell_type": "markdown",
      "source": [
        "## Graphs and programming\n",
        "\n",
        "In programming, graphs are represented with arrays. There are two possible representations: *adjacency list* and *adjacency matrix*.\n",
        "\n",
        "### Adjacency list\n",
        "\n",
        "In adjacency list representation, we do just that: **list** the neighbors of each vertex. The first line lists the neighbors of vertex 0, the second line the neighbors of vertex 1, and so on.\n",
        "\n",
        "\\begin{align}\n",
        "\\textsf{neighbors for vertex }0 &: [5] \\\\\n",
        "\\textsf{neighbors for vertex }1 &: [2,3] \\\\\n",
        "\\textsf{neighbors for vertex }2 &: [1,3] \\\\\n",
        "\\textsf{neighbors for vertex }3 &: [1,2,4] \\\\\n",
        "\\textsf{neighbors for vertex }4 &: [3] \\\\\n",
        "\\textsf{neighbors for vertex }5 &: [0] \\\\\n",
        "\\end{align}\n",
        "\n",
        "The list of neighbors list above can be written quite easily in Python."
      ],
      "metadata": {
        "id": "wDwvrASLGjGT"
      }
    },
    {
      "cell_type": "code",
      "execution_count": null,
      "metadata": {
        "id": "t1IZ0Kt1IGaT"
      },
      "outputs": [],
      "source": [
        "adj_list = [\n",
        "  [5],      # Neighbors for vertex 0\n",
        "  [2,3],    # Neighbors for vertex 1\n",
        "  [1,3],    # Neighbors for vertex 2\n",
        "  [1,2,4],  # Neighbors for vertex 3\n",
        "  [3],      # Neighbors for vertex 4\n",
        "  [0]       # Neighbors for vertex 5\n",
        "]"
      ]
    },
    {
      "cell_type": "markdown",
      "source": [
        "Finding the neighbors of a vertex, in `adj_list` above is as easy as accessing any of its elements (which themselves are also lists); for example:"
      ],
      "metadata": {
        "id": "RdTXnuosNkkt"
      }
    },
    {
      "cell_type": "code",
      "source": [
        "adj_list[3] # neighbors for vertex 3"
      ],
      "metadata": {
        "colab": {
          "base_uri": "https://localhost:8080/"
        },
        "id": "UB29OM8kO4tj",
        "outputId": "15dfcd63-74ec-4ce8-aa16-a81894d03ce4"
      },
      "execution_count": null,
      "outputs": [
        {
          "output_type": "execute_result",
          "data": {
            "text/plain": [
              "[1, 2, 4]"
            ]
          },
          "metadata": {},
          "execution_count": 2
        }
      ]
    },
    {
      "cell_type": "markdown",
      "source": [
        "This can be done in Java too, as an ArrayList of ArrayLists:\n",
        "\n",
        "```java\n",
        "// Initialize the adjacency list for 6 vertices\n",
        "ArrayList<ArrayList<Integer>> adjList = new ArrayList<>();\n",
        "\n",
        "adjList.add(new ArrayList<>());  // Neighbors for vertex 0\n",
        "adjList.get(0).add(5);\n",
        "\n",
        "adjList.add(new ArrayList<>());  // Neighbors for vertex 1\n",
        "adjList.get(1).add(2);\n",
        "adjList.get(1).add(3); // etc\n",
        "```\n",
        "Doable but not pretty; let's continue with Python."
      ],
      "metadata": {
        "id": "CIhe0vikPV2l"
      }
    },
    {
      "cell_type": "markdown",
      "source": [
        "### Adjacency matrix\n",
        "\n",
        "For a graph with $n$ vertices, we define an $n\\times n$ matrix:\n",
        "\n",
        "$$\n",
        "\\mathbf{A} =\n",
        "\\begin{bmatrix}\n",
        "a_{ij}\n",
        "\\end{bmatrix}\n",
        "$$\n",
        "with $0\\leq i,j <n$,\n",
        "such that\n",
        "\n",
        "$$\n",
        "a_{ij} =\n",
        "\\begin{cases}\n",
        "1\\ \\ \\text{if edge}\\ (i,j)\\in E  \\\\\n",
        "0\\ \\ \\text{if edge}\\ (i,j)\\not\\in E\n",
        "\\end{cases}\n",
        "$$\n",
        "(As a reminder, $E$ is the set of edges in a graph).\n",
        "\n",
        "For the graph of our example,\n",
        "\n",
        "![](https://drive.google.com/uc?export=view&id=1dvveQKdLsSW5wc1wRaBmytiCgea7gxbu)\n",
        "\n",
        "the adjacency matrix would be:\n",
        "\n",
        "$$\n",
        "\\mathbf{A} =\n",
        "\\begin{bmatrix}\n",
        "\\color{maroon}0 & 0 & 0 & 0 & 0 & 1 \\\\\n",
        "\\color{grey}0 & \\color{maroon}0 & 1 & 1 & 0 & 0 \\\\\n",
        "\\color{grey}0 & \\color{grey}1 & \\color{maroon}0 & 1 & 0 & 0 \\\\\n",
        "\\color{grey}0 & \\color{grey}1 & \\color{grey}1 & \\color{maroon}0 & 1 & 0 \\\\\n",
        "\\color{grey}0 & \\color{grey}0 & \\color{grey}0 & \\color{grey}1 & \\color{maroon}0 & 0 \\\\\n",
        "\\color{grey}1 & \\color{grey}0 & \\color{grey}0 & \\color{grey}0 & \\color{grey}0 & \\color{maroon}0\n",
        "\\end{bmatrix}\n",
        "$$\n",
        "\n",
        "The color coding above illustrates two important properties of this matrix.\n",
        "\n",
        "* Its diagonal elements shown in red, are always zero, i.e.,\n",
        "$\\color{maroon}{a_{ii}=0}$, with\n",
        "$0\\leq i <n$. It means that there is no edge from a vertex to itself.\n",
        "\n",
        "* Because the edges are undirected, i.e., the pairs of vertices in $E$ are unordered and therefore $(u,v)=(v,u)$, the matrix is *symmetric,* i.e., $a_{ij}=a_{ji}$. The symmetric elements are shown in grey. In other words, if we know that there is an edge from vertex 2 to vertex 3, then we can be certain there is also an edge from vertex 3 to vertex 2:\n",
        "$$(2,3)\\in E \\Leftrightarrow (3,2)\\in E$$"
      ],
      "metadata": {
        "id": "IqGiBRlaQ2gG"
      }
    },
    {
      "cell_type": "markdown",
      "source": [
        "## From list to matrix\n",
        "\n",
        "Converting from an adjacency list to an adjacency matrix is a matter of a few lines of code, that perform the following operation.\n",
        "\n",
        "$$\n",
        "a_{uv}=\n",
        "\\begin{cases}\n",
        "1,\\ \\text{if}\\ u\\ \\text{is neighbor of}\\ v,\\\\\n",
        "0,\\ \\text{otherwise}\n",
        "\\end{cases}\n",
        "$$"
      ],
      "metadata": {
        "id": "j62gdE-pZNw7"
      }
    },
    {
      "cell_type": "code",
      "source": [
        "def adjacency_list_to_matrix(adj_list):\n",
        "  \"\"\"Converts an adjacency list to an adjacency matrix.\"\"\"\n",
        "  # Number of vertices in graph\n",
        "  n = len(adj_list)\n",
        "  # Initialize adjacency matrix\n",
        "  adj_matrix = [[0 for _ in range(n)] for _ in range(n)]\n",
        "  # Process the neighbors for each vertex in the adj list\n",
        "  for u in range(n):\n",
        "    # Obtain the list of neighbors for u\n",
        "    neighbors = adj_list[u]\n",
        "    for v in neighbors:\n",
        "      # We established that vertex u has vertex v as neighbor\n",
        "      adj_matrix[u][v] = 1\n",
        "      adj_matrix[v][u] = 1\n",
        "  return adj_matrix\n",
        "\n",
        "# Simple example\n",
        "adjacency_list_to_matrix(adj_list)"
      ],
      "metadata": {
        "colab": {
          "base_uri": "https://localhost:8080/"
        },
        "id": "iDcLa0BLZUte",
        "outputId": "540337a6-2f0d-4c4c-fe37-a3efa796ac20"
      },
      "execution_count": null,
      "outputs": [
        {
          "output_type": "execute_result",
          "data": {
            "text/plain": [
              "[[0, 0, 0, 0, 0, 1],\n",
              " [0, 0, 1, 1, 0, 0],\n",
              " [0, 1, 0, 1, 0, 0],\n",
              " [0, 1, 1, 0, 1, 0],\n",
              " [0, 0, 0, 1, 0, 0],\n",
              " [1, 0, 0, 0, 0, 0]]"
            ]
          },
          "metadata": {},
          "execution_count": 3
        }
      ]
    },
    {
      "cell_type": "markdown",
      "source": [
        "## From matrix to list\n",
        "\n",
        "Converting from adjacency matrix to list is also straight forward.\n",
        "\n",
        "\\begin{align}\n",
        "\\text{if}\\ a_{uv} =1,\\ \\text{then make}\\ & u\\ \\text{a neighbor of}\\ v\\\\\n",
        "\\text{and}\\ &v\\ \\text{a neighbor of}\\ u\n",
        "\\end{align}\n"
      ],
      "metadata": {
        "id": "5PR2v2hJfn02"
      }
    },
    {
      "cell_type": "code",
      "source": [
        "def adjacency_matrix_to_list(adj_matrix):\n",
        "  \"\"\"Converts an adjacency matrix to an adjacency list.\"\"\"\n",
        "  # Number of vertices in graph\n",
        "  n = len(adj_matrix)\n",
        "  # Initialize the adjacency list\n",
        "  adj_list = [[] for _ in range(n)]\n",
        "  # Traverse the adjacency matrix in search of edges\n",
        "  for u in range(n):\n",
        "    for v in range(u+1,n): # skip symmetric and diagonal elements\n",
        "      if adj_matrix[u][v] == 1:\n",
        "        adj_list[u].append(v)\n",
        "        adj_list[v].append(u) # compensate for skipping symmetric elements\n",
        "  return adj_list\n",
        "\n",
        "# Simple example\n",
        "adj_matrix = [\n",
        "    [0, 0, 0, 0, 0, 1], # 0's neighbors: 5\n",
        "    [0, 0, 1, 1, 0, 0], # 1's neighbors: 2, 3\n",
        "    [0, 1, 0, 1, 0, 0], # 2's neighbors: 1, 3\n",
        "    [0, 1, 1, 0, 1, 0], # 3's neighbors: 1, 2, 4\n",
        "    [0, 0, 0, 1, 0, 0], # 4's neighbors: 3\n",
        "    [1, 0, 0, 0, 0, 0]] # 5's neighbors: 0\n"
      ],
      "metadata": {
        "id": "ob5mDb70fmvb"
      },
      "execution_count": null,
      "outputs": []
    },
    {
      "cell_type": "markdown",
      "source": [
        "## Reachability\n",
        "\n",
        "If an undirected graph has one component only, the reachability of any of its vertices is a trivial problem: every vertex in the graph is reachable from every vertex. When a graph contains more than one component, reachability becomes a bit more interesting.\n",
        "\n",
        "\n",
        "In the graph of our example, there are two components. But how can we determine the number of components?\n",
        "\n",
        "![](https://drive.google.com/uc?export=view&id=1dvveQKdLsSW5wc1wRaBmytiCgea7gxbu)\n",
        "\n",
        "One simple but powerful technique is to increment a component count for every vertex that we have not visited yet, as we explore the reachability of each vertex in the graph. In pseudocode,\n",
        "\n",
        "```text\n",
        "count = 0\n",
        "for every vertex in the graph:\n",
        "  if vertex not visited yet:\n",
        "    count++\n",
        "    mark vertex as visited\n",
        "    mark all vertices reachable from vertex as visited\n",
        "return count\n",
        "```\n",
        "\n",
        "The reachability of a vertex can be computed by exploring every possible path from that vertex. This can be done iteratively or recursively.\n",
        "\n"
      ],
      "metadata": {
        "id": "b5oN5sEdX8mr"
      }
    },
    {
      "cell_type": "code",
      "source": [
        "def reachability_iterative(s, G, visited):\n",
        "  \"\"\"Finds all vertices reachable from a specific vertex in an undirected graph.\n",
        "  The method works iteratively, by creating a list (called stack) where it adds\n",
        "  vertices to be explored. Each such vertex is added to the stack only if it has\n",
        "  not been visited before. Vertices are removed from the stack one at a time,\n",
        "  and their neighbors are added to the stack to be explored next. Once the stack\n",
        "  is empty, the list visited contains all vertices reachable from the specified\n",
        "  vertex.\n",
        "\n",
        "  Inputs\n",
        "  ------\n",
        "  s : int\n",
        "    Vertex label to explore reachability\n",
        "  G : list\n",
        "    Adjacency list for the graph\n",
        "  visited : list\n",
        "    List of vertices reachable from s, including s.\n",
        "\n",
        "  The method does not return a variable but modifies whatever list it is given\n",
        "  as its third argument.\n",
        "  \"\"\"\n",
        "  stack = [s]             # Initialize the stack\n",
        "  while stack:            # Same as while len(stack) > 0\n",
        "    u = stack.pop()       # Remove the last item from stack\n",
        "    if u not in visited:  # If we have not been here before\n",
        "      visited.append(u)   # Add u to visited vertices\n",
        "      for v in G[u]:      # For every neighbor of u\n",
        "        stack.append(v)   # Add neighbor to bottom of stack\n",
        "\n",
        "def reachability_recursive(u, G, visited):\n",
        "  \"\"\"Finds all vertices reachable from a specific vertex in an undirected graph.\n",
        "  The method works recursively by adding the neighbors of each unexplored vertex\n",
        "  into the recursion stack.\n",
        "\n",
        "  Inputs\n",
        "  ------\n",
        "  s : int\n",
        "    Vertex label to explore reachability\n",
        "  G : list\n",
        "    Adjacency list for the graph\n",
        "  visited : list\n",
        "    List of vertices reachable from s, including s.\n",
        "\n",
        "  The method does not return a variable but modifies whatever list it is given\n",
        "  as its third argument.\n",
        "  \"\"\"\n",
        "  if u not in visited:    # Have we been here before?\n",
        "    visited.append(u)     # Add u to visited vertices\n",
        "    for v in G[u]:        # Push every neighbor of u into the program stack\n",
        "      reachability_recursive(v, G, visited)"
      ],
      "metadata": {
        "id": "bX2Y0C4bg3Ga"
      },
      "execution_count": 4,
      "outputs": []
    },
    {
      "cell_type": "markdown",
      "source": [
        "## Component count\n",
        "\n",
        "To count the components in a graph, we determine the reachability of each vertex in the graph (`for s in range(len(G))`)."
      ],
      "metadata": {
        "id": "VSfG8HKUX_xT"
      }
    },
    {
      "cell_type": "code",
      "source": [
        "def component_count(G):\n",
        "  \"\"\"Counts the components of a graph.\n",
        "\n",
        "  Inputs\n",
        "  ------\n",
        "  G : list\n",
        "    The adjacency list of the graph\n",
        "\n",
        "  Returns\n",
        "  -------\n",
        "  count : int\n",
        "    The number of components in G\n",
        "  \"\"\"\n",
        "  count = 0\n",
        "  visited = []\n",
        "  for s in range(len(G)):\n",
        "    if s not in visited:\n",
        "      count += 1\n",
        "      reachability_iterative(s, G, visited)\n",
        "  return count"
      ],
      "metadata": {
        "id": "H7bQg4dnSdgV"
      },
      "execution_count": 3,
      "outputs": []
    },
    {
      "cell_type": "markdown",
      "source": [
        "## Your assignment\n",
        "\n",
        "In class we dicussed two different ways to determine the component for each vertex in a graph.\n",
        "\n",
        "Using the code provided here, design and write a method that returns the most effective way to determine the component of every vertex in a graph represented by an *adjacency list.*\n",
        "\n",
        "**Hint:** the code provided above is just a blueprint. You may be better off using parts of the methods here to write a completely new method for labeling each vertex with the component it belongs to."
      ],
      "metadata": {
        "id": "ir9g5YgyTyGt"
      }
    },
    {
      "cell_type": "markdown",
      "source": [
        "\n",
        "## Reading material\n",
        "\n",
        "* [Chapter 5](https://jeffe.cs.illinois.edu/teaching/algorithms/book/05-graphs.pdf) from Erickson's book."
      ],
      "metadata": {
        "id": "wGcycIiNz4OV"
      }
    },
    {
      "cell_type": "code",
      "source": [
        "def label_components(G):\n",
        "    ''' This method takes in a graph in the form of an adjacency list, G\n",
        "        and returns a list of which component each vertex belongs to\n",
        "\n",
        "    Inputs\n",
        "    ------\n",
        "    G : list\n",
        "        The adjacency list of the graph\n",
        "\n",
        "    Returns\n",
        "    -------\n",
        "    components : List\n",
        "        A list of size n (len(g) or the number of vertices) that is zero indexed for the components\n",
        "        lets say there are two components, and 6 vertices, 3 vertices could be 0 and 3 could be 1.\n",
        "    '''\n",
        "    # Define the list we will return\n",
        "    components = [-1] * len(G)\n",
        "\n",
        "    # Counter for number of components\n",
        "    component_id = 0\n",
        "\n",
        "    # Loop over all the vertices\n",
        "    for v in range(len(G)):\n",
        "        # we check if the vertex does not already has a component\n",
        "        if (components[v] == -1):\n",
        "            # get all the components for the specific vertex\n",
        "            visited = []\n",
        "            reachability_iterative(v, G, visited)\n",
        "\n",
        "            # add all the elements to this component\n",
        "            for elm in visited:\n",
        "                components[elm] = component_id\n",
        "            component_id += 1\n",
        "\n",
        "    # Return what we found\n",
        "    return components"
      ],
      "metadata": {
        "id": "__Tzcwaxydsl"
      },
      "execution_count": 2,
      "outputs": []
    },
    {
      "cell_type": "code",
      "source": [
        "# Example use case\n",
        "g1 = [\n",
        "    [1, 2],  # Node 0 is connected to nodes 1 and 2\n",
        "    [0],     # Node 1 is connected to node 0\n",
        "    [0],     # Node 2 is connected to node 0\n",
        "    [4],     # Node 3 is connected to node 4\n",
        "    [3],     # Node 4 is connected to node 3\n",
        "    []       # Node 5 is disconnected\n",
        "]\n",
        "\n",
        "g2 = [\n",
        "  [5],      # Neighbors for vertex 0\n",
        "  [2,3],    # Neighbors for vertex 1\n",
        "  [1,3],    # Neighbors for vertex 2\n",
        "  [1,2,4],  # Neighbors for vertex 3\n",
        "  [3],      # Neighbors for vertex 4\n",
        "  [0]       # Neighbors for vertex 5\n",
        "]\n",
        "\n",
        "print(label_components(g1))\n",
        "print(label_components(g2))"
      ],
      "metadata": {
        "colab": {
          "base_uri": "https://localhost:8080/"
        },
        "id": "HCEH4Q3KAUOR",
        "outputId": "d9aa3ca9-b5c5-4043-d534-bad414542afd"
      },
      "execution_count": 5,
      "outputs": [
        {
          "output_type": "stream",
          "name": "stdout",
          "text": [
            "[0, 0, 0, 1, 1, 2]\n",
            "[0, 1, 1, 1, 1, 0]\n"
          ]
        }
      ]
    }
  ]
}